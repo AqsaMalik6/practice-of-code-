{
 "cells": [
  {
   "cell_type": "code",
   "execution_count": 18,
   "id": "4a07b4f5",
   "metadata": {},
   "outputs": [
    {
     "name": "stdout",
     "output_type": "stream",
     "text": [
      "Input to Hidden Weights: \n",
      "[[-1.05575382  1.48353803  1.46583684]\n",
      " [ 0.21928062  0.08143963  0.2207416 ]\n",
      " [-1.37525134  0.57008199 -0.63887765]\n",
      " [ 0.68454297 -0.68536347 -1.15389056]]\n",
      "Hidden to Output Weights: \n",
      "[[-0.17127253 -1.26200943 -0.54334915  0.0026425 ]\n",
      " [ 0.71063583 -0.68532555  1.10305006  1.19373769]]\n"
     ]
    }
   ],
   "source": [
    "import numpy as np\n",
    "from scipy.stats import truncnorm\n",
    "\n",
    "input_nodes = 3\n",
    "hidden_nodes = 4\n",
    "output_nodes = 2\n",
    "# Truncated normal distribution parameters\n",
    "mean = 0\n",
    "sd = 1\n",
    "low = -2\n",
    "upp = 2\n",
    "\n",
    "wih = truncnorm((low - mean) / sd, (upp - mean) / sd).rvs((hidden_nodes, input_nodes))\n",
    "who = truncnorm((low - mean) / sd, (upp - mean) / sd).rvs((output_nodes, hidden_nodes))\n",
    "\n",
    "print(\"Input to Hidden Weights: \")\n",
    "print(wih)\n",
    "print(\"Hidden to Output Weights: \")\n",
    "print(who)\n"
   ]
  },
  {
   "cell_type": "code",
   "execution_count": 19,
   "id": "aee1be8e",
   "metadata": {},
   "outputs": [
    {
     "name": "stdout",
     "output_type": "stream",
     "text": [
      "Trained MLP model: MLPClassifier(alpha=1e-05, hidden_layer_sizes=(5, 3), random_state=1)\n",
      "Weights between input and first hidden layer:\n",
      "[[-0.02896066  0.28428775 -0.73827919 -0.12355887 -0.47211108]\n",
      " [-0.57042845 -0.79227357 -0.12764227 -0.25820536  0.00092499]]\n",
      "Weights between first hidden layer and output layer:\n",
      "[[ 0.13562443 -0.02328308  0.00633813]\n",
      " [-0.44181749 -0.58406499  0.73647897]\n",
      " [ 0.62554227 -0.16002959  0.16887451]\n",
      " [ 0.47001586  0.61079909 -0.52933978]\n",
      " [-0.61310359 -0.39254013  0.47296745]]\n"
     ]
    },
    {
     "name": "stderr",
     "output_type": "stream",
     "text": [
      "C:\\Users\\Qadri\\anaconda3\\Lib\\site-packages\\sklearn\\neural_network\\_multilayer_perceptron.py:691: ConvergenceWarning: Stochastic Optimizer: Maximum iterations (200) reached and the optimization hasn't converged yet.\n",
      "  warnings.warn(\n"
     ]
    }
   ],
   "source": [
    "from sklearn.neural_network import MLPClassifier\n",
    "\n",
    "X = [[0, 0], [0, 1], [1, 0], [1, 1]]\n",
    "y = [0, 0, 0, 1]\n",
    "clf = MLPClassifier(solver=\"adam\", alpha=1e-5, hidden_layer_sizes=(5, 3), random_state=1)\n",
    "clf.fit(X, y)\n",
    "\n",
    "print(\"Trained MLP model:\", clf)\n",
    "print(\"Weights between input and first hidden layer:\")\n",
    "print(clf.coefs_[0])\n",
    "print(\"Weights between first hidden layer and output layer:\")\n",
    "print(clf.coefs_[1])"
   ]
  },
  {
   "cell_type": "markdown",
   "id": "bda18216",
   "metadata": {},
   "source": [
    "# Activity 4: Load Iris Mnist"
   ]
  },
  {
   "cell_type": "code",
   "execution_count": 20,
   "id": "45dfa843",
   "metadata": {},
   "outputs": [
    {
     "name": "stdout",
     "output_type": "stream",
     "text": [
      "(1797, 64)\n"
     ]
    }
   ],
   "source": [
    "from sklearn.datasets import load_digits\n",
    "digits = load_digits()\n",
    "n_samples, n_features = digits.data.shape\n",
    "print((n_samples, n_features))"
   ]
  },
  {
   "cell_type": "code",
   "execution_count": 21,
   "id": "318095c1",
   "metadata": {},
   "outputs": [
    {
     "data": {
      "image/png": "[encoded data removed]",
      "text/plain": [
       "<Figure size 600x600 with 64 Axes>"
      ]
     },
     "metadata": {},
     "output_type": "display_data"
    }
   ],
   "source": [
    "import matplotlib.pyplot as plt\n",
    "# setup the figure\n",
    "fig = plt.figure(figsize = (6,6))\n",
    "fig.subplots_adjust(left = 0, right = 1, bottom=0, top = 1, hspace = 0.05, wspace  = 0.05)\n",
    "# plot the digits\n",
    "for i in range(64):\n",
    "  ax = fig.add_subplot(12, 12, i +1, xticks = [], yticks = [])\n",
    "  ax.imshow(digits.images[i])"
   ]
  },
  {
   "cell_type": "code",
   "execution_count": 22,
   "id": "a4c87377",
   "metadata": {},
   "outputs": [],
   "source": [
    "from sklearn.model_selection import train_test_split\n",
    "train_data, test_data, train_labels, test_labels = train_test_split(digits.data, digits.target, train_size=0.8,test_size=0.2, random_state=1)"
   ]
  },
  {
   "cell_type": "code",
   "execution_count": 23,
   "id": "c5acc903",
   "metadata": {},
   "outputs": [
    {
     "name": "stdout",
     "output_type": "stream",
     "text": [
      "Iteration 1, loss = 2.31777578\n",
      "Iteration 2, loss = 2.12389676\n",
      "Iteration 3, loss = 2.01276098\n",
      "Iteration 4, loss = 1.96620606\n",
      "Iteration 5, loss = 2.02525658\n",
      "Iteration 6, loss = 2.10316363\n",
      "Iteration 7, loss = 2.14075391\n",
      "Iteration 8, loss = 2.31363203\n",
      "Iteration 9, loss = 2.19566530\n",
      "Iteration 10, loss = 2.06005895\n",
      "Iteration 11, loss = 2.05778564\n",
      "Iteration 12, loss = 2.04359403\n",
      "Iteration 13, loss = 2.00446587\n",
      "Iteration 14, loss = 1.98030024\n",
      "Iteration 15, loss = 1.98516708\n",
      "Training loss did not improve more than tol=0.000100 for 10 consecutive epochs. Stopping.\n"
     ]
    },
    {
     "data": {
      "text/html": [
       "<style>#sk-container-id-3 {color: black;}#sk-container-id-3 pre{padding: 0;}#sk-container-id-3 div.sk-toggleable {background-color: white;}#sk-container-id-3 label.sk-toggleable__label {cursor: pointer;display: block;width: 100%;margin-bottom: 0;padding: 0.3em;box-sizing: border-box;text-align: center;}#sk-container-id-3 label.sk-toggleable__label-arrow:before {content: \"▸\";float: left;margin-right: 0.25em;color: #696969;}#sk-container-id-3 label.sk-toggleable__label-arrow:hover:before {color: black;}#sk-container-id-3 div.sk-estimator:hover label.sk-toggleable__label-arrow:before {color: black;}#sk-container-id-3 div.sk-toggleable__content {max-height: 0;max-width: 0;overflow: hidden;text-align: left;background-color: #f0f8ff;}#sk-container-id-3 div.sk-toggleable__content pre {margin: 0.2em;color: black;border-radius: 0.25em;background-color: #f0f8ff;}#sk-container-id-3 input.sk-toggleable__control:checked~div.sk-toggleable__content {max-height: 200px;max-width: 100%;overflow: auto;}#sk-container-id-3 input.sk-toggleable__control:checked~label.sk-toggleable__label-arrow:before {content: \"▾\";}#sk-container-id-3 div.sk-estimator input.sk-toggleable__control:checked~label.sk-toggleable__label {background-color: #d4ebff;}#sk-container-id-3 div.sk-label input.sk-toggleable__control:checked~label.sk-toggleable__label {background-color: #d4ebff;}#sk-container-id-3 input.sk-hidden--visually {border: 0;clip: rect(1px 1px 1px 1px);clip: rect(1px, 1px, 1px, 1px);height: 1px;margin: -1px;overflow: hidden;padding: 0;position: absolute;width: 1px;}#sk-container-id-3 div.sk-estimator {font-family: monospace;background-color: #f0f8ff;border: 1px dotted black;border-radius: 0.25em;box-sizing: border-box;margin-bottom: 0.5em;}#sk-container-id-3 div.sk-estimator:hover {background-color: #d4ebff;}#sk-container-id-3 div.sk-parallel-item::after {content: \"\";width: 100%;border-bottom: 1px solid gray;flex-grow: 1;}#sk-container-id-3 div.sk-label:hover label.sk-toggleable__label {background-color: #d4ebff;}#sk-container-id-3 div.sk-serial::before {content: \"\";position: absolute;border-left: 1px solid gray;box-sizing: border-box;top: 0;bottom: 0;left: 50%;z-index: 0;}#sk-container-id-3 div.sk-serial {display: flex;flex-direction: column;align-items: center;background-color: white;padding-right: 0.2em;padding-left: 0.2em;position: relative;}#sk-container-id-3 div.sk-item {position: relative;z-index: 1;}#sk-container-id-3 div.sk-parallel {display: flex;align-items: stretch;justify-content: center;background-color: white;position: relative;}#sk-container-id-3 div.sk-item::before, #sk-container-id-3 div.sk-parallel-item::before {content: \"\";position: absolute;border-left: 1px solid gray;box-sizing: border-box;top: 0;bottom: 0;left: 50%;z-index: -1;}#sk-container-id-3 div.sk-parallel-item {display: flex;flex-direction: column;z-index: 1;position: relative;background-color: white;}#sk-container-id-3 div.sk-parallel-item:first-child::after {align-self: flex-end;width: 50%;}#sk-container-id-3 div.sk-parallel-item:last-child::after {align-self: flex-start;width: 50%;}#sk-container-id-3 div.sk-parallel-item:only-child::after {width: 0;}#sk-container-id-3 div.sk-dashed-wrapped {border: 1px dashed gray;margin: 0 0.4em 0.5em 0.4em;box-sizing: border-box;padding-bottom: 0.4em;background-color: white;}#sk-container-id-3 div.sk-label label {font-family: monospace;font-weight: bold;display: inline-block;line-height: 1.2em;}#sk-container-id-3 div.sk-label-container {text-align: center;}#sk-container-id-3 div.sk-container {/* jupyter's `normalize.less` sets `[hidden] { display: none; }` but bootstrap.min.css set `[hidden] { display: none !important; }` so we also need the `!important` here to be able to override the default hidden behavior on the sphinx rendered scikit-learn.org. See: https://github.com/scikit-learn/scikit-learn/issues/21755 */display: inline-block !important;position: relative;}#sk-container-id-3 div.sk-text-repr-fallback {display: none;}</style><div id=\"sk-container-id-3\" class=\"sk-top-container\"><div class=\"sk-text-repr-fallback\"><pre>MLPClassifier(activation=&#x27;logistic&#x27;, hidden_layer_sizes=(5,),\n",
       "              learning_rate_init=3, random_state=1, solver=&#x27;sgd&#x27;, verbose=True)</pre><b>In a Jupyter environment, please rerun this cell to show the HTML representation or trust the notebook. <br />On GitHub, the HTML representation is unable to render, please try loading this page with nbviewer.org.</b></div><div class=\"sk-container\" hidden><div class=\"sk-item\"><div class=\"sk-estimator sk-toggleable\"><input class=\"sk-toggleable__control sk-hidden--visually\" id=\"sk-estimator-id-3\" type=\"checkbox\" checked><label for=\"sk-estimator-id-3\" class=\"sk-toggleable__label sk-toggleable__label-arrow\">MLPClassifier</label><div class=\"sk-toggleable__content\"><pre>MLPClassifier(activation=&#x27;logistic&#x27;, hidden_layer_sizes=(5,),\n",
       "              learning_rate_init=3, random_state=1, solver=&#x27;sgd&#x27;, verbose=True)</pre></div></div></div></div></div>"
      ],
      "text/plain": [
       "MLPClassifier(activation='logistic', hidden_layer_sizes=(5,),\n",
       "              learning_rate_init=3, random_state=1, solver='sgd', verbose=True)"
      ]
     },
     "execution_count": 23,
     "metadata": {},
     "output_type": "execute_result"
    }
   ],
   "source": [
    "from sklearn.neural_network import MLPClassifier\n",
    "mlp = MLPClassifier(hidden_layer_sizes=(5,), activation=\"logistic\", alpha=1e-4, solver=\"sgd\", tol=1e-4, random_state=1, learning_rate_init=3, verbose=True)\n",
    "mlp.fit(train_data, train_labels)\n"
   ]
  },
  {
   "cell_type": "code",
   "execution_count": 24,
   "id": "49a3376a",
   "metadata": {},
   "outputs": [
    {
     "name": "stdout",
     "output_type": "stream",
     "text": [
      "Training Accuracy: 0.1906750173973556\n",
      "Test Accuracy: 0.21944444444444444\n"
     ]
    }
   ],
   "source": [
    "from sklearn.metrics import accuracy_score\n",
    "\n",
    "predictions_train = ndp.predict(train_data)\n",
    "print(\"Training Accuracy:\", accuracy_score(predictions_train, train_labels))\n",
    "predictions_test = ndp.predict(test_data)\n",
    "print(\"Test Accuracy:\", accuracy_score(predictions_test, test_labels))\n"
   ]
  },
  {
   "cell_type": "code",
   "execution_count": 25,
   "id": "aefe6607",
   "metadata": {},
   "outputs": [
    {
     "name": "stdout",
     "output_type": "stream",
     "text": [
      "Confusion Matrix 1=\n",
      "[[135  15  15 121   0  34   4   6  16 127]\n",
      " [  0   0   0   0   0   0   0   0   0   0]\n",
      " [  0   0   0   0   0   0   0   0   0   0]\n",
      " [  0   1   0   0   0   1   0   0   0   0]\n",
      " [  0   0   0   0   0   0   0   0   0   0]\n",
      " [  0   0   1   0   0   0   0   0   1   0]\n",
      " [  0 131 121  21 143 115 139 134 128  19]\n",
      " [  0   0   0   0   0   0   0   0   0   0]\n",
      " [  0   0   0   0   0   0   0   0   0   0]\n",
      " [  0   0   4   0   0   2   1   2   0   0]]\n",
      "\n",
      "Confusion Matrix 2=\n",
      "[[43  3  8 36  0  7  1  2  8 30]\n",
      " [ 0  0  0  0  0  0  0  0  0  0]\n",
      " [ 0  0  0  0  0  0  0  0  0  0]\n",
      " [ 0  0  0  0  0  0  0  0  0  0]\n",
      " [ 0  0  0  0  0  0  0  0  0  0]\n",
      " [ 0  0  0  0  0  0  0  0  0  0]\n",
      " [ 0 32 27  5 38 23 36 35 21  4]\n",
      " [ 0  0  0  0  0  0  0  0  0  0]\n",
      " [ 0  0  0  0  0  0  0  0  0  0]\n",
      " [ 0  0  1  0  0  0  0  0  0  0]]\n"
     ]
    }
   ],
   "source": [
    "from sklearn.metrics import confusion_matrix\n",
    "\n",
    "c1 = confusion_matrix(predictions_train, train_labels)\n",
    "c2 = confusion_matrix(predictions_test, test_labels)\n",
    "\n",
    "print(\"Confusion Matrix 1=\")\n",
    "print(c1)\n",
    "print()\n",
    "print(\"Confusion Matrix 2=\")\n",
    "print(c2)"
   ]
  },
  {
   "cell_type": "code",
   "execution_count": 26,
   "id": "d13896fb",
   "metadata": {},
   "outputs": [
    {
     "name": "stdout",
     "output_type": "stream",
     "text": [
      "              precision    recall  f1-score   support\n",
      "\n",
      "           0       1.00      0.31      0.48       138\n",
      "           1       0.00      0.00      0.00         0\n",
      "           2       0.00      0.00      0.00         0\n",
      "           3       0.00      0.00      0.00         0\n",
      "           4       0.00      0.00      0.00         0\n",
      "           5       0.00      0.00      0.00         0\n",
      "           6       0.97      0.16      0.28       221\n",
      "           7       0.00      0.00      0.00         0\n",
      "           8       0.00      0.00      0.00         0\n",
      "           9       0.00      0.00      0.00         1\n",
      "\n",
      "    accuracy                           0.22       360\n",
      "   macro avg       0.20      0.05      0.08       360\n",
      "weighted avg       0.98      0.22      0.35       360\n",
      "\n"
     ]
    },
    {
     "name": "stderr",
     "output_type": "stream",
     "text": [
      "C:\\Users\\Qadri\\anaconda3\\Lib\\site-packages\\sklearn\\metrics\\_classification.py:1469: UndefinedMetricWarning: Recall and F-score are ill-defined and being set to 0.0 in labels with no true samples. Use `zero_division` parameter to control this behavior.\n",
      "  _warn_prf(average, modifier, msg_start, len(result))\n",
      "C:\\Users\\Qadri\\anaconda3\\Lib\\site-packages\\sklearn\\metrics\\_classification.py:1469: UndefinedMetricWarning: Recall and F-score are ill-defined and being set to 0.0 in labels with no true samples. Use `zero_division` parameter to control this behavior.\n",
      "  _warn_prf(average, modifier, msg_start, len(result))\n",
      "C:\\Users\\Qadri\\anaconda3\\Lib\\site-packages\\sklearn\\metrics\\_classification.py:1469: UndefinedMetricWarning: Recall and F-score are ill-defined and being set to 0.0 in labels with no true samples. Use `zero_division` parameter to control this behavior.\n",
      "  _warn_prf(average, modifier, msg_start, len(result))\n"
     ]
    }
   ],
   "source": [
    "from sklearn.metrics import classification_report \n",
    "print(classification_report(predictions_test, test_labels))"
   ]
  },
  {
   "cell_type": "code",
   "execution_count": null,
   "id": "9358bc65",
   "metadata": {},
   "outputs": [],
   "source": []
  }
 ],
 "metadata": {
  "kernelspec": {
   "display_name": "Python 3 (ipykernel)",
   "language": "python",
   "name": "python3"
  },
  "language_info": {
   "codemirror_mode": {
    "name": "ipython",
    "version": 3
   },
   "file_extension": ".py",
   "mimetype": "text/x-python",
   "name": "python",
   "nbconvert_exporter": "python",
   "pygments_lexer": "ipython3",
   "version": "3.11.4"
  }
 },
 "nbformat": 4,
 "nbformat_minor": 5
}
